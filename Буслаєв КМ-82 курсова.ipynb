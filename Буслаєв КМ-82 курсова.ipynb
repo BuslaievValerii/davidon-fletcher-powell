{
 "cells": [
  {
   "cell_type": "markdown",
   "metadata": {
    "id": "vdaqf6vgTTg4"
   },
   "source": [
    "<left>\n",
    "    <img src=\"https://kpi.ua/files/images/kpi.png\" width=\"300\" alt=\"kpi logo\"  />\n",
    "</left>"
   ]
  },
  {
   "cell_type": "markdown",
   "metadata": {
    "id": "y2VgPk2mTThF"
   },
   "source": [
    "# **Курсова робота**\n",
    "\n",
    "# **із дисципліни «Методи оптимізації»**\n",
    "\n",
    "# **на тему: Метод Девідона-Флетчера-Пауелла**"
   ]
  },
  {
   "cell_type": "markdown",
   "metadata": {
    "id": "jkRBtAnQTThK"
   },
   "source": [
    "**Студента групи КМ-82**\n",
    "\n",
    "**Буслаєва В. О.**\n",
    "\n",
    "\n",
    "**Керівник:**\n",
    "\n",
    "**Викладач Норкін Б. В.**"
   ]
  },
  {
   "cell_type": "markdown",
   "metadata": {
    "id": "CHwOXFUpTThK"
   },
   "source": [
    "## Зміст"
   ]
  },
  {
   "cell_type": "markdown",
   "metadata": {
    "id": "bHSc4iksTThP"
   },
   "source": [
    "* Вступ\n",
    "* Матеріали та методи\n",
    "* Вирішення проблеми\n",
    "  * Імпорт бібліотек\n",
    "  * Визначення констант\n",
    "  * Визначення функцій\n",
    "  * Обчислення та виведення результатів\n",
    "* Висновки\n",
    "* Використані джерела\n",
    "\n"
   ]
  },
  {
   "cell_type": "markdown",
   "metadata": {
    "id": "jMUKBzRtATok"
   },
   "source": [
    "## Вступ"
   ]
  },
  {
   "cell_type": "markdown",
   "metadata": {
    "id": "9BLxATjFAyKt"
   },
   "source": [
    "Теорія оптимізації знаходить ефективне застосування в усіх напрямках інженерної діяльності, і в першу чергу в чотирьох її областях:\n",
    "\n",
    "1) проектування систем і їх складових частин\n",
    "2) планування та аналіз функціонування існуючих систем\n",
    "3) інженерний аналіз і обробка інформації\n",
    "4) управління динамічними системами.\n",
    "\n",
    "Теорія оптимізації являє собою сукупність фундаментальних математичних результатів і чисельних методів, орієнтованих на знаходження і ідентифікацію найкращих варіантів з безлічі альтернатив і дозволяють уникнути повного перебору і оцінювання можливих варіантів.\n",
    "\n",
    "В даній курсовій роботі нами буде розглянуто алгоритм мінімізації функції Розенброка методом Девідона-Флетчера-Пауелла. В ході роботи буде розглянуто умовну оптимізацію, а також варіанти, коли глобальний мінімум знаходиться всередені та поза допутимою областю. Для обчислення буде використано метод внутрішньої точки."
   ]
  },
  {
   "attachments": {
    "a3c3767e-55f5-4d7a-805e-3987df38325a.png": {
     "image/png": "[encoded data removed]"
    }
   },
   "cell_type": "markdown",
   "metadata": {
    "id": "imKWkeOrAWJ1"
   },
   "source": [
    "## Матеріали та методи.\n",
    "\n",
    "Як відомо, задача умовної оптимізації методом штрафних функцій зводиться до послідовності вирішення задач безумовної оптимізації. В таких методах використовується принцип штрафу, що додається до початкової функції, та значення якого збільшується з кожним разом.\n",
    "\n",
    "В даній роботі було використано метод Девідона-Флетчера-Пауелла, що відноситься до квазіньютонівських методів.\n",
    "\n",
    "Для будь-якої задачі безумовної оптимізації можна використовувати метод Ньютона, так як для нього доведена збіжність. Проте, для застосування методу Ньютона треба знати матрицю Гессе даної функції і здійснити зворотнє перетворення цієї матриці. У багатьох випадках може виявитися, що матриці Гессе невідомі, або їх обчислення пов'язано з великими труднощами, або вони можуть бути отримані тільки чисельними методами. Методи змінної метрики апроксимують матрицю Гессе або зворотню до неї, використовуючи для цього значення тільки перших похідних. У більшості цих методів використовуються спряжані напрями. Перехід з точки $x^{(k)}$ в точку $x^{(k+1)}$ визначається наступним чином:\n",
    "\n",
    "$x^{(k+1)} = x^{(k)} - \\lambda^{*(k)}A(x^{(k)})\\nabla f(x)$\n",
    "\n",
    "де\n",
    "\n",
    "$A(x^{(k)})$ - матриця порядку nХn, називається метрикою, змінюється на кожній ітерації і являє собою апроксимацію оберненої матриці Гессе;\n",
    "\n",
    "$\\lambda^{*(k)}$ - скаляр, який визначається за допомогою методів одновимірного пошуку;\n",
    "\n",
    "$\\nabla f(x)$ - значення градієнта в точці $x^{(k)})$\n",
    "\n",
    "Метод Девідона - Флетчера - Пауелла не вимагає обчислення зворотної матриці Гессе. Матриця напрямків А обчислюється таким чином, щоб для квадратичної цільової функції в межі після n кроків вона дорівнювала $H^{-1}$ . Вихідна матриця А зазвичай вибирається у вигляді одиничної матриці $A^{(0)} = I$ (але може бути і будь-якою симетричною додатньо визначеною матрицею), так що вихідний напрямок мінімізації - це напрямок найшвидшого спуску. В ході оптимізації відбувається поступовий перехід від напрямку найшвидшого спуску до ньютоновскому (на відповідних етапах мінімізації використовуються переваги кожного з цих підходів).\n",
    "\n",
    "**Алгоритм методу Девідона - Флетчера - Пауелла.**\n",
    "\n",
    "Вихідні дані:\n",
    "\n",
    "- Початкова точка $x^{(0)}$;\n",
    "\n",
    "- Параметри закінчення $\\epsilon_{1}, \\epsilon_{2}$.\n",
    "\n",
    "1) Задати координати початкової точки $x^{(0)}$. Обчислити значення $\\nabla f(x)$. Покласти $A^{(0)} = I$.\n",
    "2) Обчислити $\\lambda^{*(k)}$ при мінімізації функції $f\\lfloor x^{(k)} - \\lambda^{*(k)}A(x^{(k)})\\nabla f(x) \\rfloor$ (Використовується одновимірний метод пошуку).\n",
    "3) Обчислити точку $x^{(k+1)}$:\n",
    "\n",
    "$x^{(k+1)} = x^{(k)} - \\lambda^{*(k)}A(x^{(k)})\\nabla f(x)$\n",
    "\n",
    "4) Обчислити $f(x^{(k+1)}), \\nabla f(x^{(k+1)})$,\n",
    "\n",
    "$\\Delta g(x^{(k)})=\\nabla f(x^{(k+1)})-\\nabla f(x^{(k)}),\\Delta x^{(k)}=x^{(k+1)}-x^{(k)}$.\n",
    "\n",
    "5) Перевірити критерій закінчення\n",
    "6) Якщо критерій закінчення виконався, пошук закінчено. Інакше повернутися до п. 2.\n",
    "7) k = k+1. Обчислити $A(x^{(k)})$\n",
    "\n",
    "![image.png](attachment:a3c3767e-55f5-4d7a-805e-3987df38325a.png)\n",
    "\n",
    "Ця формула зберігає властивість симетрії і позитивної визначеності матриць. Таким чином, алгоритм забезпечує спадання цільової функції від ітерації до ітерації.\n",
    "\n",
    "У методі Девідона-Флетчера-Пауелла можуть зустрічатися негативні кроки (накопичення помилки). Для уникнення цього:\n",
    "\n",
    "1) Збільшити точність.\n",
    "2) Продовжити пошук з переглянутою матрицею напрямків.\n",
    "\n",
    "Для вирішення задачі умовної оптимізації було обрано метод внутрішньої точки.\n",
    "\n",
    "Методи внутрішньої точки використовують такі штрафи Ф, при яких стаціонарні точки штрафний функції P (x, R) є допустимими. Штраф створює уздовж кордону допустимої області бар'єр з нескінченно великих значень функції P (x, R). Ці методи називають методами бар'єрів. Пошук мінімуму починається з точки, в якій всі обмеження виконуються як строгі нерівності. При мінімізації штрафний функції вихід на межу допустимої області, де штраф Ф нескінченний, не має сенсу, тому процес руху до мінімуму функції ніколи не покине допустиму область."
   ]
  },
  {
   "cell_type": "markdown",
   "metadata": {
    "id": "NNm4GtIYBQDs"
   },
   "source": [
    "## Вирішення проблеми\n"
   ]
  },
  {
   "cell_type": "markdown",
   "metadata": {
    "id": "S4t5rpwITThQ"
   },
   "source": [
    "----"
   ]
  },
  {
   "cell_type": "markdown",
   "metadata": {
    "id": "xS8UOiQOTThR"
   },
   "source": [
    "## Імпорт бібліотек"
   ]
  },
  {
   "cell_type": "code",
   "execution_count": 1,
   "metadata": {
    "id": "jdVcijxmTTha"
   },
   "outputs": [],
   "source": [
    "# Import the libraries we need to use\n",
    "import numpy as np \n",
    "import math\n",
    "import matplotlib.pyplot as plt"
   ]
  },
  {
   "cell_type": "markdown",
   "metadata": {
    "id": "SbmrZguMTThd"
   },
   "source": [
    "## Визначення констант"
   ]
  },
  {
   "cell_type": "code",
   "execution_count": 2,
   "metadata": {
    "id": "sQDRkQFLCOu0"
   },
   "outputs": [],
   "source": [
    "LAMBDA0 = 0                        # starting lambda\n",
    "COUNTER = 0                        # counter of calculating of function\n",
    "SVEN_PAR = 0.35                    # parametr that we place in delta_lambda function to find optimal lambda\n",
    "EPSILON = 0.01                     # precision of calculating length of step\n",
    "PRECISE = 0.001                     # precision of criterion of stop\n",
    "H = 0.001                          # step in numerical calculating of derivative\n",
    "R = 1                              # multiplier for penalty function\n",
    "A0 = np.matrix([[1, 0], [0, 1]])   # starting A matrix\n",
    "X0 = (-1.2, 0)                     # starting dot"
   ]
  },
  {
   "cell_type": "markdown",
   "metadata": {
    "id": "zYRuHcdaTThe"
   },
   "source": [
    "## Визначення функцій"
   ]
  },
  {
   "cell_type": "code",
   "execution_count": 3,
   "metadata": {
    "id": "quu9XyUOTThe"
   },
   "outputs": [],
   "source": [
    "# help function to check the error meaning\n",
    "def penalty(x1, x2):\n",
    "\ttry:\n",
    "\t\tlog = math.log(g(x1, x2))\n",
    "\texcept:\n",
    "\t\tlog = -1000\n",
    "\treturn -log"
   ]
  },
  {
   "cell_type": "code",
   "execution_count": 4,
   "metadata": {},
   "outputs": [],
   "source": [
    "# this is function with equation which define the possible area\n",
    "def g(x1, x2):\n",
    "    # we will firstly try a situation, when both start and minimal dots are in the area\n",
    "    # that's a simulation of optimization without limitations\n",
    "\treturn 25-(x1+1)**2-x2**2"
   ]
  },
  {
   "cell_type": "code",
   "execution_count": 5,
   "metadata": {},
   "outputs": [],
   "source": [
    "# this is the main function with calculation of Rosenbroks' function with penalty\n",
    "def f(x1, x2):\n",
    "\tglobal COUNTER\n",
    "\tCOUNTER += 1\n",
    "\tfoo = (1-x1)**2 + 100*((x2-x1**2)**2) + R*penalty(x1, x2)\n",
    "\treturn foo"
   ]
  },
  {
   "cell_type": "code",
   "execution_count": 6,
   "metadata": {},
   "outputs": [],
   "source": [
    "# this function numerically counts meaning of gradient of the function in the dot\n",
    "def grad(x1, x2):\n",
    "\tderiv1 = (f(x1+H, x2) - f(x1-H, x2))/(2*H)\n",
    "\tderiv2 = (f(x1, x2+H) - f(x1, x2-H))/(2*H)\n",
    "\treturn (deriv1, deriv2)"
   ]
  },
  {
   "cell_type": "code",
   "execution_count": 7,
   "metadata": {},
   "outputs": [],
   "source": [
    "# additional functions which just calculate norm of some dot and dalta in counting lambda with Svenn algorithm\n",
    "def norm(x1, x2):\n",
    "\treturn math.sqrt(x1**2 + x2**2)\n",
    "\n",
    "def delta_lambda(x1, x2, s1, s2):\n",
    "\treturn SVEN_PAR*(norm(x1, x2)/norm(s1, s2))"
   ]
  },
  {
   "cell_type": "code",
   "execution_count": 8,
   "metadata": {},
   "outputs": [],
   "source": [
    "# while calculating lambda with Svenn algorithm there might appear such situation, when we need to find dot on the edge of possible area\n",
    "# this is where we use this function using numerical approximation of that meaning\n",
    "def sven_approximate(lambda_in, lambda_out, x1, x2, s):\n",
    "\tlambdas = [(lambda_in, True), (lambda_out, False)]\n",
    "\twhile not (lambdas[-1][1] == False and lambdas[-2][1] == False):\n",
    "\n",
    "\t\ttrue_lambda, false_lambda = 0, 0\n",
    "\t\tfor el in lambdas:\n",
    "\t\t\tif el[1]:\n",
    "\t\t\t\ttrue_lambda = el[0]\n",
    "\t\t\telse:\n",
    "\t\t\t\tfalse_lambda = el[0]\n",
    "\n",
    "\t\tnew_lambda = (true_lambda + false_lambda)/2\n",
    "\t\tif g(x1+s[0]*new_lambda, x2+s[1]*new_lambda) < 0:\n",
    "\t\t\tlambdas.append((new_lambda, False))\n",
    "\t\telse:\n",
    "\t\t\tlambdas.append((new_lambda, True))\n",
    "\n",
    "\t\tif len(lambdas) > 100:\n",
    "\t\t\tfor el in lambdas[::-1]:\n",
    "\t\t\t\tif el[1]:\n",
    "\t\t\t\t\treturn el[0]\n",
    "\n",
    "\treturn lambdas[-3][0]"
   ]
  },
  {
   "cell_type": "code",
   "execution_count": 9,
   "metadata": {},
   "outputs": [],
   "source": [
    "# this is function which realizes Svenn algorithm\n",
    "# it returns an interval where the minimum of f(x) lies\n",
    "# here we transform our function with two parametrs in the function with one parametr\n",
    "def alg_sven(x1, x2, delta, lambda0, s):\n",
    "\tlambdas = [lambda0]\n",
    "\tf_0 = f(x1+s[0]*lambda0, x2+s[1]*lambda0)\n",
    "\n",
    "\tlambda_left = lambda0 - delta\n",
    "\tf_left = f(x1+s[0]*lambda_left, x2+s[1]*lambda_left)\n",
    "\n",
    "\tlambda_right = lambda0 + delta\n",
    "\tf_right = f(x1+s[0]*lambda_right, x2+s[1]*lambda_right)\n",
    "\n",
    "\tif f_left < f_0:\n",
    "\t\tmode = 'left'\n",
    "\t\tlambdas.append(lambda_left)\n",
    "\telse:\n",
    "\t\tmode = 'right'\n",
    "\t\tlambdas.append(lambda_right)\n",
    "\n",
    "\t_continue = True\n",
    "\tout_lambda = 0\n",
    "\twhile f(x1+s[0]*lambdas[-1], x2+s[1]*lambdas[-1]) < f(x1+s[0]*lambdas[-2], x2+s[1]*lambdas[-2]) and _continue:\n",
    "\t\t\n",
    "\t\tif mode == 'left':\n",
    "\t\t\tnew_lambda = lambdas[-1] - delta*(2**(len(lambdas)-1))\n",
    "\t\telse:\n",
    "\t\t\tnew_lambda = lambdas[-1] + delta*(2**(len(lambdas)-1))\n",
    "\n",
    "\t\tif g(x1+s[0]*new_lambda, x2+s[1]*new_lambda) >= 0:\n",
    "\t\t\tlambdas.append(new_lambda)\n",
    "\t\telse:\n",
    "\t\t\t_continue = False\n",
    "\t\t\tout_lambda = new_lambda\n",
    "\n",
    "\tif out_lambda == 0:\n",
    "\t\tnew_lambda = (lambdas[-1]+lambdas[-2])/2\n",
    "\t\tif f(x1+s[0]*new_lambda, x2+s[1]*new_lambda) < f(x1+s[0]*lambdas[-2], x2+s[1]*lambdas[-2]):\n",
    "\t\t\ta, b = lambdas[-2], lambdas[-1]\n",
    "\t\telse:\n",
    "\t\t\tidx = -2 if len(lambdas)<3 else -3 \n",
    "\t\t\ta, b = lambdas[idx], new_lambda\n",
    "\n",
    "\telse:\n",
    "\t\tnew_lambda = (lambdas[-1]+out_lambda)/2\n",
    "\t\twhile g(x1+s[0]*new_lambda, x2+s[1]*new_lambda) < 0:\n",
    "\t\t\tnew_lambda = (lambdas[-1]+new_lambda)/2\n",
    "\n",
    "\t\tif f(x1+s[0]*new_lambda, x2+s[1]*new_lambda) > f(x1+s[0]*lambdas[-1], x2+s[1]*lambdas[-1]):\n",
    "\t\t\tif f(x1+s[0]*new_lambda, x2+s[1]*new_lambda) < f(x1+s[0]*lambdas[-2], x2+s[1]*lambdas[-2]):\n",
    "\t\t\t\ta, b = lambdas[-1], new_lambda\n",
    "\t\t\telse:\n",
    "\t\t\t\ta, b = lambdas[-1], lambdas[-2]\n",
    "\t\t\n",
    "\t\telse:\n",
    "\t\t\tlambda_approx = sven_approximate(new_lambda, out_lambda, x1, x2, s)\n",
    "\t\t\ta, b = new_lambda, lambda_approx\n",
    "\n",
    "\treturn min(a,b), max(a,b)"
   ]
  },
  {
   "cell_type": "code",
   "execution_count": 10,
   "metadata": {},
   "outputs": [],
   "source": [
    "# to minimize lambda we will use method of golden cut\n",
    "# it is also possible to use DSK-Pauell method yet because of numerical counts there appears errors with very small numbers\n",
    "def golden(x1, x2, s, a, b, epsilon):\n",
    "\tL = abs(b-a)\n",
    "\twhile L > epsilon:\n",
    "\t\tx1_gold = a + 0.382*L\n",
    "\t\tx2_gold = a + 0.618*L\n",
    "\n",
    "\t\tf_x1 = f(x1+s[0]*x1_gold, x2+s[1]*x1_gold)\n",
    "\t\tf_x2 = f(x1+s[0]*x2_gold, x2+s[1]*x2_gold)\n",
    "\n",
    "\t\tcenter = min(f_x1, f_x2)\n",
    "\t\tif center == f_x1:\n",
    "\t\t\tb = x2_gold\n",
    "\t\telse:\n",
    "\t\t\ta = x1_gold\n",
    "\t\tL = abs(b-a)\n",
    "\n",
    "\treturn (a + b)/2"
   ]
  },
  {
   "cell_type": "code",
   "execution_count": 11,
   "metadata": {},
   "outputs": [],
   "source": [
    "# those are additional functions to count deltas\n",
    "def x_delta(X1, X2):\n",
    "\treturn X2[0]-X1[0], X2[1]-X1[1]\n",
    "\n",
    "def g_delta(X1, X2):\n",
    "\tg1 = grad(X1[0], X1[1])\n",
    "\tg2 = grad(X2[0], X2[1])\n",
    "\treturn g2[0]-g1[0], g2[1]-g1[1]"
   ]
  },
  {
   "cell_type": "code",
   "execution_count": 12,
   "metadata": {},
   "outputs": [],
   "source": [
    "# this function counts new way using A-matrix and gradient\n",
    "def count_s(x1, x2, A):\n",
    "\tgradient = np.matrix(grad(x1, x2))\n",
    "\tS = -A@gradient.T\n",
    "\treturn S.item(0), S.item(1)"
   ]
  },
  {
   "cell_type": "code",
   "execution_count": 13,
   "metadata": {},
   "outputs": [],
   "source": [
    "# this function counts next A-matrix\n",
    "def count_A(A, X1, X2):\n",
    "\tg_del = np.matrix(g_delta(X1, X2)).T\n",
    "\tx_del = np.matrix(x_delta(X1, X2)).T\n",
    "\tfirst = (x_del @ x_del.T)/(x_del.T @ g_del)\n",
    "\tsecond = (A @ g_del @ g_del.T @ A)/(g_del.T @ A @ g_del)\n",
    "\tA_new = A + first - second\n",
    "\treturn A_new"
   ]
  },
  {
   "cell_type": "code",
   "execution_count": 14,
   "metadata": {},
   "outputs": [],
   "source": [
    "# as far as each iteration of DFP method is similar we will right it down as a function\n",
    "def iteration(X, A, func):\n",
    "\tS = count_s(X[0], X[1], A)\n",
    "\tdelta = delta_lambda(X[0], X[1], S[0], S[1])\n",
    "\ta, b = alg_sven(X[0], X[1], delta, LAMBDA0, S)\n",
    "\t_lambda = func(X[0], X[1], S, a, b, EPSILON)\n",
    "\treturn X[0]+_lambda*S[0], X[1]+_lambda*S[1]"
   ]
  },
  {
   "cell_type": "code",
   "execution_count": 15,
   "metadata": {},
   "outputs": [],
   "source": [
    "# we will use one of two criteria of end, which uses difference of x dots and of f(x)\n",
    "# we won't use the criteria with norm of gradient because from numeric calculating of derivatives we can bump into plenty of mistakes\n",
    "def stop_func(X1, X2):\n",
    "\tnorma = norm(X2[0]-X1[0], X2[1]-X1[1])/norm(X1[0], X1[1])\n",
    "\tabsol = abs(f(X2[0], X2[1])-f(X1[0], X1[1]))\n",
    "\tif norma <= PRECISE and absol <= PRECISE:\n",
    "\t\treturn True\n",
    "\treturn False"
   ]
  },
  {
   "cell_type": "code",
   "execution_count": 16,
   "metadata": {},
   "outputs": [],
   "source": [
    "# this is main function in program, which minimizes function using DFP method\n",
    "def dfp():\n",
    "\tX1 = iteration(X0, A0, golden)\n",
    "\tprint(f'X1 = {X1}')\n",
    "\tXS = [X0, X1]\n",
    "\tAS = [A0]\n",
    "\n",
    "\twhile not stop_func(XS[-2], XS[-1]):\n",
    "\t\tA_new = count_A(AS[-1], XS[-2], XS[-1])\n",
    "\t\tX_new = iteration(XS[-1], A_new, golden)\n",
    "\n",
    "\t\tXS.append(X_new)\n",
    "\t\tAS.append(A_new)\n",
    "\n",
    "\t\tprint(f'X{len(XS)-1} = {X_new}')\n",
    "\n",
    "\tprint(f'\\nFunction counted {COUNTER} times')\n",
    "\n",
    "\tdots_x = [X[0] for X in XS]\n",
    "\tdots_y = [X[1] for X in XS]\n",
    "\n",
    "\tplt.figure(0)\n",
    "\tplt.plot(dots_x, dots_y, marker='.')\n",
    "\tplt.show()"
   ]
  },
  {
   "cell_type": "markdown",
   "metadata": {
    "id": "y9E-eO8GDMv0"
   },
   "source": [
    "## Обчислення та виведення результатів"
   ]
  },
  {
   "cell_type": "markdown",
   "metadata": {},
   "source": [
    "В цьому блоці проводимо обчислення та виводимо результати мінімізації функції.\n",
    "\n",
    "Спершу проведемо мінімізацію функції, коли обидві точки (початкова та глобальний мінімум) знаходяться всередині допустимої області. Це зімітує звичайний алгоритм ДФП, який в теорії має збігтися до точки (1; 1)."
   ]
  },
  {
   "cell_type": "code",
   "execution_count": 17,
   "metadata": {
    "id": "FBJYb-jHDYGl"
   },
   "outputs": [
    {
     "name": "stdout",
     "output_type": "stream",
     "text": [
      "X1 = (0.7402789318889775, 0.8033166663699736)\n",
      "X2 = (0.8323682703799736, 0.6357896469299714)\n",
      "X3 = (0.814405054268473, 0.6627221240520197)\n",
      "X4 = (0.8154569532167437, 0.6652673821955463)\n",
      "X5 = (0.8437936087482586, 0.7103920529564688)\n",
      "X6 = (0.8459521417893647, 0.7154361024710773)\n",
      "X7 = (0.8526378784893222, 0.7265482921205557)\n",
      "X8 = (0.8527473280015645, 0.7268354123844356)\n",
      "\n",
      "Function counted 428 times\n"
     ]
    },
    {
     "data": {
      "image/png": "[encoded data removed]",
      "text/plain": [
       "<Figure size 432x288 with 1 Axes>"
      ]
     },
     "metadata": {
      "needs_background": "light"
     },
     "output_type": "display_data"
    }
   ],
   "source": [
    "dfp()"
   ]
  },
  {
   "cell_type": "code",
   "execution_count": 18,
   "metadata": {},
   "outputs": [
    {
     "name": "stdout",
     "output_type": "stream",
     "text": [
      "X1 = (0.7402730448254444, 0.8033308854536828)\n",
      "X2 = (0.8323698648864114, 0.6358066873807248)\n",
      "X3 = (0.8146387920936329, 0.6631523523529228)\n",
      "X4 = (0.840947169092329, 0.7011074742014796)\n",
      "X5 = (0.9237391368582769, 0.8466388996988042)\n",
      "X6 = (0.920351677469166, 0.8466665989473556)\n",
      "X7 = (0.9667636031626461, 0.9327356847864468)\n",
      "X8 = (0.9713577060841225, 0.9437091351468108)\n",
      "X9 = (0.9801287359554378, 0.9604627258862)\n",
      "X10 = (0.9805002335753522, 0.9613411849818788)\n",
      "\n",
      "Function counted 538 times\n"
     ]
    },
    {
     "data": {
      "image/png": "[encoded data removed]",
      "text/plain": [
       "<Figure size 432x288 with 1 Axes>"
      ]
     },
     "metadata": {
      "needs_background": "light"
     },
     "output_type": "display_data"
    }
   ],
   "source": [
    "COUNTER = 0\n",
    "R = 0.1\n",
    "dfp()"
   ]
  },
  {
   "cell_type": "code",
   "execution_count": 19,
   "metadata": {},
   "outputs": [
    {
     "name": "stdout",
     "output_type": "stream",
     "text": [
      "X1 = (0.7402724561018981, 0.8033323073873647)\n",
      "X2 = (0.8323700244507949, 0.635808391540311)\n",
      "X3 = (0.8146742392240275, 0.6631769478707875)\n",
      "X4 = (0.8557940010119564, 0.7252848854862953)\n",
      "X5 = (0.9472848554496845, 0.891126225209746)\n",
      "X6 = (0.9414680785374462, 0.8857676800485064)\n",
      "X7 = (0.9875066197572192, 0.9735968810121471)\n",
      "X8 = (0.9897386002694334, 0.9796887438450063)\n",
      "X9 = (0.9976718677591399, 0.9952464269485124)\n",
      "X10 = (0.9977191416116388, 0.9954398918129838)\n",
      "\n",
      "Function counted 538 times\n"
     ]
    },
    {
     "data": {
      "image/png": "[encoded data removed]",
      "text/plain": [
       "<Figure size 432x288 with 1 Axes>"
      ]
     },
     "metadata": {
      "needs_background": "light"
     },
     "output_type": "display_data"
    }
   ],
   "source": [
    "COUNTER = 0\n",
    "R = 0.01\n",
    "dfp()"
   ]
  },
  {
   "cell_type": "code",
   "execution_count": 20,
   "metadata": {},
   "outputs": [
    {
     "name": "stdout",
     "output_type": "stream",
     "text": [
      "X1 = (0.7402723972293683, 0.8033324495809929)\n",
      "X2 = (0.8323700404083696, 0.6358085619574223)\n",
      "X3 = (0.8146777840465508, 0.6631794039386762)\n",
      "X4 = (0.857544316103455, 0.7282023998965673)\n",
      "X5 = (0.9505192721752181, 0.897409198723523)\n",
      "X6 = (0.9445567631606862, 0.8915807941732903)\n",
      "X7 = (0.9900486161540997, 0.9786976799022932)\n",
      "X8 = (0.9919807463884752, 0.9841204521528749)\n",
      "X9 = (0.9995261300691983, 0.998965806452182)\n",
      "X10 = (0.9995231296806179, 0.9990458831231425)\n",
      "\n",
      "Function counted 542 times\n"
     ]
    },
    {
     "data": {
      "image/png": "[encoded data removed]",
      "text/plain": [
       "<Figure size 432x288 with 1 Axes>"
      ]
     },
     "metadata": {
      "needs_background": "light"
     },
     "output_type": "display_data"
    }
   ],
   "source": [
    "COUNTER = 0\n",
    "R = 0.001\n",
    "dfp()"
   ]
  },
  {
   "cell_type": "code",
   "execution_count": 21,
   "metadata": {},
   "outputs": [
    {
     "name": "stdout",
     "output_type": "stream",
     "text": [
      "X1 = (0.7402723913421194, 0.8033324638003458)\n",
      "X2 = (0.8323700420041408, 0.6358085789991316)\n",
      "X3 = (0.8146781385298562, 0.6631796495106148)\n",
      "X4 = (0.8577210059641777, 0.7284977790487716)\n",
      "X5 = (0.9502484569699472, 0.8968406292996318)\n",
      "X6 = (0.9442457332407922, 0.8909899996388012)\n",
      "X7 = (0.9900295031840537, 0.9786416138588216)\n",
      "X8 = (0.9920068230258599, 0.9841759036849704)\n",
      "X9 = (0.99968478267378, 0.9992798632297194)\n",
      "X10 = (0.9996987149658665, 0.9993977280145155)\n",
      "\n",
      "Function counted 540 times\n"
     ]
    },
    {
     "data": {
      "image/png": "[encoded data removed]",
      "text/plain": [
       "<Figure size 432x288 with 1 Axes>"
      ]
     },
     "metadata": {
      "needs_background": "light"
     },
     "output_type": "display_data"
    }
   ],
   "source": [
    "COUNTER = 0\n",
    "R = 0.0001\n",
    "dfp()"
   ]
  },
  {
   "cell_type": "markdown",
   "metadata": {},
   "source": [
    "Як бачимо функція дійсно збігається до теоретичних значень з допустимою похибкою, що дає нам можливість стверджувати, що алгоритм працює правильно.\n",
    "\n",
    "Тепер перебудуємо допустиму область так, що глобальний мінімум знаходився позі нею. В даному випадку це круг з радіусом 1 та центром в точці (-1; 0). В такому випадку алгоритм має збігатися до точки (0; 0).\n",
    "\n",
    "Також нам треба бути змінити деякі константи для кращих результатів прни виведенні. Дані значення констант підібрані під час туестів програми."
   ]
  },
  {
   "cell_type": "code",
   "execution_count": 22,
   "metadata": {},
   "outputs": [],
   "source": [
    "SVEN_PAR = 0.25\n",
    "PRECISE = 0.01\n",
    "COUNTER = 0\n",
    "R = 1"
   ]
  },
  {
   "cell_type": "code",
   "execution_count": 23,
   "metadata": {},
   "outputs": [],
   "source": [
    "def g(x1, x2):\n",
    "\treturn 1-(x1+1)**2-x2**2"
   ]
  },
  {
   "cell_type": "code",
   "execution_count": 24,
   "metadata": {},
   "outputs": [
    {
     "name": "stdout",
     "output_type": "stream",
     "text": [
      "X1 = (-0.2990803436544489, 0.37278515637054843)\n",
      "X2 = (-0.19706916138212144, 0.15668755137671386)\n",
      "X3 = (-0.1303002093833711, 0.030689797195361634)\n",
      "X4 = (-0.27987476079102813, 0.07165076818526475)\n",
      "X5 = (-0.2865358992782262, 0.08142574061272653)\n",
      "X6 = (-0.2980089345512121, 0.086807710220959)\n",
      "X7 = (-0.29839046793009455, 0.08729554747633823)\n",
      "\n",
      "Function counted 303 times\n"
     ]
    },
    {
     "data": {
      "image/png": "[encoded data removed]",
      "text/plain": [
       "<Figure size 432x288 with 1 Axes>"
      ]
     },
     "metadata": {
      "needs_background": "light"
     },
     "output_type": "display_data"
    }
   ],
   "source": [
    "dfp()"
   ]
  },
  {
   "cell_type": "code",
   "execution_count": 25,
   "metadata": {},
   "outputs": [
    {
     "name": "stdout",
     "output_type": "stream",
     "text": [
      "X1 = (-0.2991513513808376, 0.37295671636401556)\n",
      "X2 = (-0.09500932142700086, -0.0593791194399772)\n",
      "X3 = (-0.13354717760691867, 0.012914356477282493)\n",
      "X4 = (-0.04748514369652093, -0.0008389425252339922)\n",
      "X5 = (-0.04813673168309724, 0.002218745240098822)\n",
      "X6 = (-0.04662786901539985, 0.0021503958230751317)\n",
      "X7 = (-0.04662788622287591, 0.0021503981638802015)\n",
      "\n",
      "Function counted 315 times\n"
     ]
    },
    {
     "data": {
      "image/png": "[encoded data removed]",
      "text/plain": [
       "<Figure size 432x288 with 1 Axes>"
      ]
     },
     "metadata": {
      "needs_background": "light"
     },
     "output_type": "display_data"
    }
   ],
   "source": [
    "COUNTER = 0\n",
    "R = 0.1\n",
    "dfp()"
   ]
  },
  {
   "cell_type": "code",
   "execution_count": 26,
   "metadata": {},
   "outputs": [
    {
     "name": "stdout",
     "output_type": "stream",
     "text": [
      "X1 = (-0.29915845754610193, 0.3729738803043474)\n",
      "X2 = (-0.09500446214834651, -0.05937602922932861)\n",
      "X3 = (-0.1314110477424555, 0.010703599312458553)\n",
      "X4 = (-0.0017022830283777157, -0.012940995489728227)\n",
      "X5 = (-0.006683060489820653, -0.011854775436369527)\n",
      "X6 = (-0.006108680839691984, 0.00011854791191844537)\n",
      "X7 = (-0.00496197905670869, 6.132722166003712e-05)\n",
      "X8 = (-0.0049702089807521724, 5.7736367154724115e-05)\n",
      "\n",
      "Function counted 300 times\n"
     ]
    },
    {
     "data": {
      "image/png": "[encoded data removed]",
      "text/plain": [
       "<Figure size 432x288 with 1 Axes>"
      ]
     },
     "metadata": {
      "needs_background": "light"
     },
     "output_type": "display_data"
    }
   ],
   "source": [
    "COUNTER = 0\n",
    "R = 0.01\n",
    "dfp()"
   ]
  },
  {
   "cell_type": "code",
   "execution_count": 27,
   "metadata": {},
   "outputs": [
    {
     "name": "stdout",
     "output_type": "stream",
     "text": [
      "X1 = (-0.2991591682165903, 0.3729755967778239)\n",
      "X2 = (-0.09500397628374402, -0.059375720239574215)\n",
      "X3 = (-0.13107258683059148, 0.010244834602268368)\n",
      "X4 = (-0.0007308728089922556, -0.006960316963539399)\n",
      "X5 = (-0.0011628123503682876, -0.006891345308344597)\n",
      "X6 = (-0.001161868185499695, 6.9395417555224645e-06)\n",
      "X7 = (-0.001082551605611714, -0.0006486009280631715)\n",
      "X8 = (-0.0010839526430921685, -0.0006367820648271914)\n",
      "\n",
      "Function counted 290 times\n"
     ]
    },
    {
     "data": {
      "image/png": "[encoded data removed]",
      "text/plain": [
       "<Figure size 432x288 with 1 Axes>"
      ]
     },
     "metadata": {
      "needs_background": "light"
     },
     "output_type": "display_data"
    }
   ],
   "source": [
    "COUNTER = 0\n",
    "R = 0.001\n",
    "dfp()"
   ]
  },
  {
   "cell_type": "code",
   "execution_count": 28,
   "metadata": {},
   "outputs": [
    {
     "name": "stdout",
     "output_type": "stream",
     "text": [
      "X1 = (-0.2991592392841782, 0.37297576842596547)\n",
      "X2 = (-0.09500392769791485, -0.05937568934091114)\n",
      "X3 = (-0.13106463378739594, 0.010248914645932514)\n",
      "X4 = (-0.0008361500444913628, -0.007737761068825424)\n",
      "X5 = (-0.0013159263415845346, -0.0076576084392651345)\n",
      "X6 = (-0.00128234527584852, 3.57085610699177e-05)\n",
      "X7 = (-8.978017567263987e-05, 0.0005084378595772065)\n",
      "X8 = (-9.408670556095369e-05, 0.0005065380867098571)\n",
      "\n",
      "Function counted 238 times\n"
     ]
    },
    {
     "data": {
      "image/png": "[encoded data removed]",
      "text/plain": [
       "<Figure size 432x288 with 1 Axes>"
      ]
     },
     "metadata": {
      "needs_background": "light"
     },
     "output_type": "display_data"
    }
   ],
   "source": [
    "COUNTER = 0\n",
    "R = 0.0001\n",
    "dfp()"
   ]
  },
  {
   "cell_type": "markdown",
   "metadata": {},
   "source": [
    "Як бачимо, програма знову збігається до теоретичних значень за оптимальну кількість обчислень значення цільової функції."
   ]
  },
  {
   "cell_type": "markdown",
   "metadata": {
    "id": "PgT67G1AInlY"
   },
   "source": [
    "## Висновки"
   ]
  },
  {
   "cell_type": "markdown",
   "metadata": {
    "id": "j3rprK0AIpsV"
   },
   "source": [
    "В даній курсовій роботі нами було розглянуто алгоритми безумовної та умовної оптимізації. Розроблено програму, яка реалізує мінімізацію функції Розенброка методом Девідона-Флетчера-Пауелла із використанням методу внутрішньої точки та методів одномірного пошуку.\n",
    "\n",
    "Дана програма показує задовільні результати при обчисленні мінімуму функції Розенброка з заданої початкової точки.\n",
    "\n",
    "Для обчислення оптимальної довжини кроку методом одновимірного пошуку було використано метод золотого перерізу. Також можна використовувати інші методи одновимірного пошуку, такі як дихотомія або ДСК-Пауелл. В даній роботі через занадто малі значення параметрів при обчисленні оптимальної довжини кроку в дейяких випадках ставалася помилка при обчисленні нових точок. Через це для обчислень було обрано метод золотого перерізу.\n",
    "\n",
    "Під час обчислень було продемонстровано різні варіанти допустимої області, така, коли глобальний мінімум знаходиться всередині області, та така, коли глобальний мінімум лежить поза нею.\n",
    "\n",
    "Під час тестування програми було обрані оптимальні значення змінних, які відповідають за множник під час обчислення оптимальної довжини кроку алгоритмом Свенна, за крок під час чисельного обчислення похідних, за точність у критеріях закінчення. Таким чином нам вдалося досягти потрібної точності обчислень за 200-400 обчислень цільової функції. Зважаючи на те, що функція Розенброка є достатньо складною для алгоритмів оптимізації через свою яристість можемо стверджувати, що результат задовільний. "
   ]
  },
  {
   "cell_type": "markdown",
   "metadata": {
    "id": "6C25CbDQI6FQ"
   },
   "source": [
    "## Використані джерела"
   ]
  },
  {
   "cell_type": "markdown",
   "metadata": {
    "id": "35Hda0hJI9wc"
   },
   "source": [
    "1. Химмельблау Д. Прикладное нелинейное программирование / Химмельблау Д. — М. : Мир, 1975. — 535 с.\n",
    "2. Методы оптимизации: Конспект лекций / Б.Ю. Лемешко. – Новосибирск: Изд-во НГТУ, 2009. – 126 с.\n",
    "3. Реклейтис Г. Оптимизация в технике: В 2-х книгах. / Реклейтис Г., Рейвиндран А., Рэгсдел К.; [пер. с англ.]. — М. : Мир, 1986. — 747 с.\n",
    "4. Матряшин Н. П. Математическое программирование / Н. П. Матряшин, В. К. Макеева. — Харьков : Вища школа, 1978. — 160 с."
   ]
  }
 ],
 "metadata": {
  "colab": {
   "name": "Student Lab Template.ipynb",
   "provenance": []
  },
  "kernelspec": {
   "display_name": "Python 3",
   "language": "python",
   "name": "python3"
  },
  "language_info": {
   "codemirror_mode": {
    "name": "ipython",
    "version": 3
   },
   "file_extension": ".py",
   "mimetype": "text/x-python",
   "name": "python",
   "nbconvert_exporter": "python",
   "pygments_lexer": "ipython3",
   "version": "3.9.4"
  }
 },
 "nbformat": 4,
 "nbformat_minor": 4
}
